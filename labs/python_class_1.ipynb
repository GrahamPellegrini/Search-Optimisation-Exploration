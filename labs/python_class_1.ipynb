{
 "cells": [
  {
   "cell_type": "markdown",
   "id": "04274548",
   "metadata": {},
   "source": [
    "# Some useful tips in Python for computational units \n"
   ]
  },
  {
   "cell_type": "markdown",
   "id": "f0027081",
   "metadata": {},
   "source": [
    "CCE2502, CCE2503, etc"
   ]
  },
  {
   "cell_type": "markdown",
   "id": "631c6d09",
   "metadata": {},
   "source": [
    "## No braces in Python, but indentation!"
   ]
  },
  {
   "cell_type": "code",
   "execution_count": null,
   "id": "364e3bd1",
   "metadata": {},
   "outputs": [],
   "source": [
    "i=0\n",
    "while i<4:\n",
    "    print(i)\n",
    "    i += 1"
   ]
  },
  {
   "cell_type": "markdown",
   "id": "2a71b8e7",
   "metadata": {},
   "source": [
    "# Native python"
   ]
  },
  {
   "cell_type": "code",
   "execution_count": null,
   "id": "69f4033f",
   "metadata": {},
   "outputs": [],
   "source": [
    "# native python\n",
    "a=2\n",
    "b=5\n",
    "D=b-a\n",
    "print(D)\n",
    "print(type(a))"
   ]
  },
  {
   "cell_type": "code",
   "execution_count": null,
   "id": "f8fff789",
   "metadata": {},
   "outputs": [],
   "source": [
    "# native python\n",
    "b=[1,2,3,4]\n",
    "for a in b:\n",
    "    print(b[0:3])\n",
    "print(type(b))"
   ]
  },
  {
   "cell_type": "code",
   "execution_count": null,
   "id": "b60b85f0",
   "metadata": {},
   "outputs": [],
   "source": [
    "c=list(range(5))\n",
    "print(c)\n",
    "print(b+c)"
   ]
  },
  {
   "cell_type": "markdown",
   "id": "27f9a6ca",
   "metadata": {},
   "source": [
    "# Numpy"
   ]
  },
  {
   "cell_type": "code",
   "execution_count": null,
   "id": "67119a9b",
   "metadata": {},
   "outputs": [],
   "source": [
    "import numpy as np\n"
   ]
  },
  {
   "cell_type": "code",
   "execution_count": null,
   "id": "710664ef",
   "metadata": {},
   "outputs": [],
   "source": [
    "a=np.array([0,1,2,3,4])\n",
    "b=np.array([[0],[1],[2]])"
   ]
  },
  {
   "cell_type": "code",
   "execution_count": null,
   "id": "f07c74f5",
   "metadata": {},
   "outputs": [],
   "source": [
    "c=a.reshape(1,5)\n",
    "c.shape"
   ]
  },
  {
   "cell_type": "code",
   "execution_count": null,
   "id": "5577df46",
   "metadata": {},
   "outputs": [],
   "source": [
    "b.shape"
   ]
  },
  {
   "cell_type": "code",
   "execution_count": null,
   "id": "0e3ceb55",
   "metadata": {},
   "outputs": [],
   "source": [
    "c.ravel()"
   ]
  },
  {
   "cell_type": "code",
   "execution_count": null,
   "id": "1428c433",
   "metadata": {},
   "outputs": [],
   "source": [
    "x=6\n",
    "y=12\n",
    "print(x,y)"
   ]
  },
  {
   "cell_type": "code",
   "execution_count": null,
   "id": "48413c42",
   "metadata": {},
   "outputs": [],
   "source": [
    "a=np.array([1,2,3,4])\n",
    "b = a+2\n",
    "print(a,b)\n",
    "a+b"
   ]
  },
  {
   "cell_type": "code",
   "execution_count": null,
   "id": "e4deb2ea",
   "metadata": {},
   "outputs": [],
   "source": [
    "for i,x in enumerate(a):\n",
    "    print(a[i]+b[i])"
   ]
  },
  {
   "cell_type": "code",
   "execution_count": null,
   "id": "be69999d",
   "metadata": {},
   "outputs": [],
   "source": [
    "d=np.linspace(3,11,21)\n",
    "d.var()\n",
    "e = np.linspace(45,47,21)"
   ]
  },
  {
   "cell_type": "code",
   "execution_count": null,
   "id": "bac65195",
   "metadata": {},
   "outputs": [],
   "source": [
    "## Random numbers"
   ]
  },
  {
   "cell_type": "code",
   "execution_count": null,
   "id": "a819aba6",
   "metadata": {},
   "outputs": [],
   "source": [
    "print(x+y)\n",
    "np.random.seed(0)\n",
    "np.random.randint(1,5)\n",
    "z = np.random.rand(5,2)\n",
    "x = np.random.randint(0,10,size=(3,2))\n",
    "np.random.randn()\n",
    "print(x)\n",
    "print(\"shape of x:\",x.shape)\n",
    "print(\"%6.3f   %6.3f\"%(z[0,0], z[0,1]*10))\n"
   ]
  },
  {
   "cell_type": "code",
   "execution_count": null,
   "id": "02b87a23",
   "metadata": {},
   "outputs": [],
   "source": []
  },
  {
   "cell_type": "markdown",
   "id": "5572e9dc",
   "metadata": {},
   "source": [
    "we now create a vector manually"
   ]
  },
  {
   "cell_type": "code",
   "execution_count": null,
   "id": "964bb904",
   "metadata": {},
   "outputs": [],
   "source": [
    "x=np.array([0,1,2,3,4,5])\n",
    "print(x)"
   ]
  },
  {
   "cell_type": "markdown",
   "id": "13cd490a",
   "metadata": {},
   "source": [
    "we can also use arange"
   ]
  },
  {
   "cell_type": "code",
   "execution_count": null,
   "id": "eb29c14a",
   "metadata": {},
   "outputs": [],
   "source": [
    "xx=np.arange(0,3,.2)\n",
    "print(xx)\n",
    "xx.shape"
   ]
  },
  {
   "cell_type": "markdown",
   "id": "5fd0bfc9",
   "metadata": {
    "collapsed": true
   },
   "source": [
    "print shape of vector"
   ]
  },
  {
   "cell_type": "code",
   "execution_count": null,
   "id": "f1ee3708",
   "metadata": {},
   "outputs": [],
   "source": [
    "x=np.array([0,1,2,3,4,5]).reshape((6,1))\n",
    "x.shape\n",
    "x\n",
    "print(x)\n",
    "x.T"
   ]
  },
  {
   "cell_type": "markdown",
   "id": "e220fc7a",
   "metadata": {},
   "source": [
    "we now define $y$ as a function of $x$, \n",
    "$$y(x)=x^2$$ \n",
    "and plot in 2D"
   ]
  },
  {
   "cell_type": "code",
   "execution_count": null,
   "id": "e1836954",
   "metadata": {},
   "outputs": [],
   "source": [
    "print(x)\n",
    "y = x**2\n",
    "print(y)\n",
    "y1= y+5  #Broadcasting\n",
    "print(y1)"
   ]
  },
  {
   "cell_type": "markdown",
   "id": "8d514486",
   "metadata": {},
   "source": [
    "# Matplotlib"
   ]
  },
  {
   "cell_type": "code",
   "execution_count": null,
   "id": "f614718b",
   "metadata": {},
   "outputs": [],
   "source": [
    "plt.figure()\n",
    "plt.plot(x.ravel(),y.ravel(),'b', x.ravel(),y1.ravel(),'r')\n",
    "plt.xlabel('cost')\n",
    "plt.show()"
   ]
  },
  {
   "cell_type": "code",
   "execution_count": null,
   "id": "8c397982",
   "metadata": {},
   "outputs": [],
   "source": [
    "fig, ax = plt.subplots()\n",
    "ax.plot(x, y,'k')\n",
    "ax.set_xlim((0,6))\n",
    "ax.set_ylim((0,35))\n",
    "x0,x1 = ax.get_xlim()\n",
    "y0,y1 = ax.get_ylim()\n",
    "#ax.set_aspect(1.0)\n",
    "#ax.grid(b=True, which='major', linestyle='--')\n",
    "plt.show()"
   ]
  },
  {
   "cell_type": "code",
   "execution_count": null,
   "id": "8fabaa47",
   "metadata": {},
   "outputs": [],
   "source": [
    "xx = np.array([0,1,2,3,4])\n",
    "yy=np.dot(xx,xx)\n",
    "print(yy)\n",
    "# same as\n",
    "xx2 = xx*xx\n",
    "print(xx2.sum())\n"
   ]
  },
  {
   "cell_type": "raw",
   "id": "48f1097c",
   "metadata": {},
   "source": []
  },
  {
   "cell_type": "markdown",
   "id": "8fe41d63",
   "metadata": {
    "collapsed": true
   },
   "source": [
    "## Matrices and Matrix operations\n",
    "\n"
   ]
  },
  {
   "cell_type": "code",
   "execution_count": null,
   "id": "50db35bf",
   "metadata": {},
   "outputs": [],
   "source": [
    "X=np.matrix([2,3])\n",
    "W=np.matrix([1,2])\n",
    "print(X,W)\n",
    "print(X.shape)"
   ]
  },
  {
   "cell_type": "code",
   "execution_count": null,
   "id": "76f800c1",
   "metadata": {},
   "outputs": [],
   "source": [
    "X*X.T\n"
   ]
  },
  {
   "cell_type": "code",
   "execution_count": null,
   "id": "508b4f74",
   "metadata": {},
   "outputs": [],
   "source": [
    "np.dot(X.T,X)"
   ]
  },
  {
   "cell_type": "code",
   "execution_count": null,
   "id": "f5a497fe",
   "metadata": {},
   "outputs": [],
   "source": [
    "# same with arrays\n"
   ]
  },
  {
   "cell_type": "code",
   "execution_count": null,
   "id": "042d4800",
   "metadata": {},
   "outputs": [],
   "source": [
    "Xa = np.array([2,3])\n",
    "Wa = np.array([1,2])\n",
    "print(Xa.shape)\n",
    "Xa=Xa.reshape(1,2)\n",
    "print(Xa.shape)\n",
    "Xa"
   ]
  },
  {
   "cell_type": "code",
   "execution_count": null,
   "id": "efa028e7",
   "metadata": {},
   "outputs": [],
   "source": [
    "Xa.T@X"
   ]
  },
  {
   "cell_type": "code",
   "execution_count": null,
   "id": "279586cb",
   "metadata": {},
   "outputs": [],
   "source": []
  },
  {
   "cell_type": "code",
   "execution_count": null,
   "id": "308df453",
   "metadata": {},
   "outputs": [],
   "source": []
  },
  {
   "cell_type": "markdown",
   "id": "6756b3ab",
   "metadata": {},
   "source": [
    "# Tutorial on how time code in Python"
   ]
  },
  {
   "cell_type": "code",
   "execution_count": null,
   "id": "0842d573",
   "metadata": {},
   "outputs": [],
   "source": [
    "import numpy as np"
   ]
  },
  {
   "cell_type": "markdown",
   "id": "d1c018ec",
   "metadata": {},
   "source": [
    "### First define a function to time"
   ]
  },
  {
   "cell_type": "code",
   "execution_count": null,
   "id": "f9fed13f",
   "metadata": {},
   "outputs": [],
   "source": [
    "def func_experiment():\n",
    "    c = 0\n",
    "    for i in range(100):\n",
    "        for j in range(1000):\n",
    "            c = i * j\n",
    "    return c\n",
    "\n",
    "print(loop_experiment())"
   ]
  },
  {
   "cell_type": "code",
   "execution_count": null,
   "id": "5b44022b",
   "metadata": {},
   "outputs": [],
   "source": []
  },
  {
   "cell_type": "markdown",
   "id": "a2e3845f",
   "metadata": {},
   "source": [
    "## Using the system \"time\" library"
   ]
  },
  {
   "cell_type": "code",
   "execution_count": null,
   "id": "5dc601af",
   "metadata": {},
   "outputs": [],
   "source": [
    "import time"
   ]
  },
  {
   "cell_type": "code",
   "execution_count": null,
   "id": "ac20e951",
   "metadata": {},
   "outputs": [],
   "source": [
    "#crude way: includes garbage collector time and other processes in the way\n",
    "#Modify function to include sleep time\n",
    "def func_modified():   \n",
    "    time.sleep(0.1)\n",
    "    return func_experiment()\n",
    "\n",
    "start = time.time()\n",
    "func_modified()\n",
    "end = time.time()\n",
    "print(\"Wall time :\",(end-start)*1e6,\"micro-seconds\")\n",
    "#\n",
    "start = time.process_time()\n",
    "func_modified()\n",
    "end = time.process_time()\n",
    "print(\"Process time :\",(end-start)*1e6,\"micro-seconds\")\n",
    "# process time does not include the waiting time for resources"
   ]
  },
  {
   "cell_type": "code",
   "execution_count": null,
   "id": "057ce420",
   "metadata": {},
   "outputs": [],
   "source": [
    "# Repeat multiple times and calculate variance\n",
    "N=100\n",
    "t = np.zeros(N)\n",
    "for n in range(N):\n",
    "    start = time.time()\n",
    "    func_experiment()\n",
    "    end = time.time()\n",
    "    t[n] = end - start\n",
    "#\n",
    "print(\"Wall time:\")\n",
    "print(\"  Mean = \", t.mean()*1e6,\"micro-seconds, +/-\",t.std()*1e6,\"micro-seconds\")\n",
    "print(\"  Min  = \", t.min()*1e6,\"micro-seconds\")\n",
    "print(\"  Max  = \", t.max()*1e6,\"micro-seconds\")\n",
    "#\n",
    "for n in range(N):\n",
    "    start = time.process_time()\n",
    "    func_experiment()\n",
    "    end = time.process_time()\n",
    "    t[n] = end - start\n",
    "#\n",
    "print(\"Process time:\")\n",
    "print(\"  Mean = \", t.mean()*1e6,\"micro-seconds, +/-\",t.std()*1e6,\"micro-seconds\")\n",
    "print(\"  Min  = \", t.min()*1e6,\"micro-seconds\")\n",
    "print(\"  Max  = \", t.max()*1e6,\"micro-seconds\")\n",
    "\n"
   ]
  },
  {
   "cell_type": "markdown",
   "id": "aa8694b4",
   "metadata": {},
   "source": [
    "## Using timer in timeit"
   ]
  },
  {
   "cell_type": "code",
   "execution_count": null,
   "id": "196ea590",
   "metadata": {},
   "outputs": [],
   "source": [
    "import timeit\n",
    "# useful for timing short pieces of code\n",
    "# no need to import"
   ]
  },
  {
   "cell_type": "code",
   "execution_count": null,
   "id": "aad4633c",
   "metadata": {},
   "outputs": [],
   "source": [
    "# Using default_timer\n",
    "# Repeat multiple times and calculate variance\n",
    "N=100\n",
    "t = np.zeros(N)\n",
    "for n in range(N):\n",
    "    start = timeit.default_timer()\n",
    "    func_modified()\n",
    "    end = timeit.default_timer()\n",
    "    t[n] = end - start\n",
    "#\n",
    "print(\"Wall time:\")\n",
    "print(\"  Mean = \", t.mean()*1e6,\"micro-seconds, +/-\",t.std()*1e6,\"micro-seconds\")\n",
    "print(\"  Min  = \", t.min()*1e6,\"micro-seconds\")\n",
    "print(\"  Max  = \", t.max()*1e6,\"micro-seconds\")\n",
    "#\n",
    "for n in range(N):\n",
    "    start = timeit.default_timer()\n",
    "    func_experiment()\n",
    "    end = timeit.default_timer()\n",
    "    t[n] = end - start\n",
    "#\n",
    "print(\"Wall time:\")\n",
    "print(\"  Mean = \", t.mean()*1e6,\"micro-seconds, +/-\",t.std()*1e6,\"micro-seconds\")\n",
    "print(\"  Min  = \", t.min()*1e6,\"micro-seconds\")\n",
    "print(\"  Max  = \", t.max()*1e6,\"micro-seconds\")\n",
    "#"
   ]
  },
  {
   "cell_type": "code",
   "execution_count": null,
   "id": "4961ebb1",
   "metadata": {},
   "outputs": [],
   "source": [
    "# useful for timing short pieces of code\n",
    "import timeit\n",
    "\n",
    "elapsed_time = timeit.timeit(func_experiment, number=100)\n",
    "print(elapsed_time*1e6/100,\"micro-seconds\")"
   ]
  },
  {
   "cell_type": "code",
   "execution_count": null,
   "id": "daa0380a",
   "metadata": {},
   "outputs": [],
   "source": [
    "# Using a wrapper to isolate functions\n",
    "\n",
    "def wrapper():\n",
    "    func_experiment()\n",
    "\n",
    "elapsed_time = timeit.timeit(wrapper, number=100)\n",
    "print(elapsed_time*1e6/100,\"micro-seconds\")"
   ]
  },
  {
   "cell_type": "code",
   "execution_count": null,
   "id": "c069a1d5",
   "metadata": {},
   "outputs": [],
   "source": []
  },
  {
   "cell_type": "markdown",
   "id": "3394ecb1",
   "metadata": {},
   "source": [
    "### Using the magic “timeit” command\n",
    "\n",
    "1. %timeit \n",
    "2. %%timeit"
   ]
  },
  {
   "cell_type": "code",
   "execution_count": null,
   "id": "b3bf15ab",
   "metadata": {},
   "outputs": [],
   "source": [
    "# %timeit  - all in one line\n",
    "# example #1:\n",
    "%timeit -r 10 -n 30 func_experiment()\n",
    "#\n",
    "# example #2:\n",
    "%timeit for i in range(100): i*i"
   ]
  },
  {
   "cell_type": "code",
   "execution_count": null,
   "id": "88065ffe",
   "metadata": {},
   "outputs": [],
   "source": [
    "%%timeit -r 10 -n 30\n",
    "# %%timeit - place at the beginning of a jupyter notebook cell and it times the whole cell\n",
    "func_experiment()"
   ]
  },
  {
   "cell_type": "code",
   "execution_count": null,
   "id": "496a1179",
   "metadata": {},
   "outputs": [],
   "source": [
    "%%timeit -r 10 -n 30\n",
    "# %%timeit - place at the beginning of a jupyter notebook cell and it times the whole cell\n",
    "func_experiment()\n",
    "func_experiment()\n"
   ]
  },
  {
   "cell_type": "code",
   "execution_count": null,
   "id": "96401ce0",
   "metadata": {},
   "outputs": [],
   "source": []
  },
  {
   "cell_type": "markdown",
   "id": "17301454",
   "metadata": {},
   "source": [
    "# Tutorial on wrappers in python"
   ]
  },
  {
   "cell_type": "markdown",
   "id": "3346547f",
   "metadata": {},
   "source": [
    "In Python, functions are first-class objects. This means that functions can be passed around and used as arguments, just like any other object (string, int, float, list, and so on). Consider the following three functions:\n",
    "\n",
    "note: Below we are using these are the so-called f-strings. Typing an f in front of a string allows you to enter values of variables inside that string by enclosing the variables in curly braces. new way of formatting strings"
   ]
  },
  {
   "cell_type": "code",
   "execution_count": null,
   "id": "565864a2",
   "metadata": {},
   "outputs": [],
   "source": [
    "#example of an f string\n",
    "a='yes'\n",
    "b=30\n",
    "f\"Hey, {a} she is {b} years old\""
   ]
  },
  {
   "cell_type": "code",
   "execution_count": null,
   "id": "e5d063cc",
   "metadata": {},
   "outputs": [],
   "source": [
    "def say_hi(name):\n",
    "    return f\"Hi {name}\"\n",
    "\n",
    "def greet_team(name):\n",
    "    return f\"Hi {name}, together we can play doubles\"\n",
    "\n",
    "def greet_someone(func_to_call):\n",
    "    return func_to_call(\"Frank\")\n",
    "\n",
    "print(say_hi(\"Frank\"))  #pass on string\n",
    "print(greet_someone(say_hi))\n",
    "print(greet_someone(greet_team))"
   ]
  },
  {
   "cell_type": "markdown",
   "id": "01aba499",
   "metadata": {},
   "source": [
    "Inner Functions\n",
    "It’s possible to define functions inside other functions. Such functions are called inner functions. Here’s an example of a function with two inner functions:"
   ]
  },
  {
   "cell_type": "code",
   "execution_count": null,
   "id": "fe4be84f",
   "metadata": {},
   "outputs": [],
   "source": [
    "def parent():\n",
    "    print(\"Printing from the parent() function\")\n",
    "\n",
    "    def first_child():\n",
    "        print(\"Printing from the first_child() function\")\n",
    "\n",
    "    def second_child():\n",
    "        print(\"Printing from the second_child() function\")\n",
    "\n",
    "    second_child()\n",
    "    first_child()"
   ]
  },
  {
   "cell_type": "code",
   "execution_count": null,
   "id": "92761f45",
   "metadata": {},
   "outputs": [],
   "source": [
    "parent()"
   ]
  },
  {
   "cell_type": "markdown",
   "id": "efd24d4d",
   "metadata": {},
   "source": [
    "Returning Functions From Functions\n",
    "Python also allows you to use functions as return values. The following example returns one of the inner functions from the outer parent() function:"
   ]
  },
  {
   "cell_type": "code",
   "execution_count": null,
   "id": "93aad895",
   "metadata": {},
   "outputs": [],
   "source": [
    "def parent(num):\n",
    "    def first_child():\n",
    "        return \"Hi, I am John\"\n",
    "\n",
    "    def second_child():\n",
    "        return \"Call me Peter\"\n",
    "\n",
    "    if num == 1:\n",
    "        return first_child\n",
    "    else:\n",
    "        return second_child\n",
    "\n",
    "print(parent(1)())  # return the result of evaluating the function\n",
    "\n",
    "print(parent(1))  # returns the pointer or refernce to the function first_child"
   ]
  },
  {
   "cell_type": "markdown",
   "id": "a69db376",
   "metadata": {},
   "source": [
    "Note that you are returning first_child without the parentheses. Recall that this means that you are returning a reference to the function first_child. In contrast first_child() with parentheses refers to the result of evaluating the function. This can be seen in the following example:"
   ]
  },
  {
   "cell_type": "code",
   "execution_count": null,
   "id": "4838a85e",
   "metadata": {},
   "outputs": [],
   "source": [
    "first = parent(1)\n",
    "second = parent(2)"
   ]
  },
  {
   "cell_type": "code",
   "execution_count": null,
   "id": "4bd1e104",
   "metadata": {},
   "outputs": [],
   "source": [
    "first()"
   ]
  },
  {
   "cell_type": "code",
   "execution_count": null,
   "id": "4c1be3cc",
   "metadata": {},
   "outputs": [],
   "source": [
    "second()"
   ]
  },
  {
   "cell_type": "markdown",
   "id": "ad32a623",
   "metadata": {},
   "source": [
    "#### Simple Decorators:\n",
    "So functions are just like any other object in Python\n",
    "the Python decorator. Example:"
   ]
  },
  {
   "cell_type": "code",
   "execution_count": null,
   "id": "a87d050f",
   "metadata": {},
   "outputs": [],
   "source": [
    "def my_decorator(func):\n",
    "    # func is the function we want to decorate (or add more functionality to)\n",
    "    def wrapper(): #inner function\n",
    "        print(\"Something is happening before the function is called.\")\n",
    "        func()\n",
    "        print(\"Something is happening after the function is called.\")\n",
    "    return wrapper  # note that wrapper is returned as a function\n",
    "\n",
    "def say_wheee():   # This is our random function, which we would like to decorate\n",
    "    print(\"Whee!\")\n",
    "\n",
    "# we now decorate the function or wrap the function into an outer layer\n",
    "say_when = my_decorator(say_wheee)"
   ]
  },
  {
   "cell_type": "markdown",
   "id": "d368bc25",
   "metadata": {},
   "source": [
    "In effect, the name say_whee now points to the wrapper() inner function. Remember that you return wrapper as a function when you call my_decorator(say_whee):"
   ]
  },
  {
   "cell_type": "code",
   "execution_count": null,
   "id": "e2c9ceb9",
   "metadata": {},
   "outputs": [],
   "source": [
    "say_when()"
   ]
  },
  {
   "cell_type": "markdown",
   "id": "b81fbfe2",
   "metadata": {},
   "source": [
    "So, @my_decorator is just an easier way of saying say_whee = my_decorator(say_whee). It’s how you apply a decorator to a function."
   ]
  },
  {
   "cell_type": "code",
   "execution_count": null,
   "id": "3592c02d",
   "metadata": {},
   "outputs": [],
   "source": [
    "def my_decorator(func):\n",
    "    def wrapper():\n",
    "        print(\"Something is happening before the function is called.\")\n",
    "        func()\n",
    "        print(\"Something is happening after the function is called.\")\n",
    "    return wrapper\n",
    "\n",
    "@my_decorator  # this version looks more like an explicit wrapper\n",
    "def say_whatever():\n",
    "    print(\"Wheerre!\")"
   ]
  },
  {
   "cell_type": "code",
   "execution_count": null,
   "id": "83c45e60",
   "metadata": {},
   "outputs": [],
   "source": [
    "say_whatever()"
   ]
  },
  {
   "cell_type": "markdown",
   "id": "c292e982",
   "metadata": {},
   "source": [
    "### Another example"
   ]
  },
  {
   "cell_type": "code",
   "execution_count": null,
   "id": "44c061d1",
   "metadata": {},
   "outputs": [],
   "source": [
    "class Person:\n",
    "    def __init__(self, name, age):\n",
    "        self.name = name\n",
    "        self.age = age\n",
    "\n",
    "    def myfunc(self):\n",
    "        print(\"Hello my name is \" + self.name)\n",
    "\n",
    "p1 = Person(\"John\", 36)\n",
    "p1.myfunc()"
   ]
  },
  {
   "cell_type": "code",
   "execution_count": null,
   "id": "5f1607c2",
   "metadata": {},
   "outputs": [],
   "source": [
    "class Person:\n",
    "    def __init__(self, name, age):\n",
    "        self.name = name\n",
    "        self.age = age\n",
    "\n",
    "    def myfunc(self):\n",
    "        print(\"Hello my name is \" + self.name)\n",
    "\n",
    "p1 = Person(\"John\", 36)\n",
    "p1.myfunc()"
   ]
  },
  {
   "cell_type": "code",
   "execution_count": null,
   "id": "50cbacdb",
   "metadata": {},
   "outputs": [],
   "source": [
    "def add_numbers(a,b):\n",
    "    return a+b\n",
    "\n",
    "print(add_numbers(12,7))"
   ]
  },
  {
   "cell_type": "code",
   "execution_count": null,
   "id": "5bde9f03",
   "metadata": {},
   "outputs": [],
   "source": [
    "class function_call_count:\n",
    "    def __init__(self, name, count):\n",
    "        self.name = name  # this is an aribitrary name for our reference\n",
    "        self.count = count # number of times the decorated function 'func' is called\n",
    "\n",
    "    def display_count(self): # Method to display count\n",
    "        print(\"Function call count is \", self.count)\n",
    "        \n",
    "    def reset_count(self):  # Method to reset count\n",
    "        self.count = 0\n",
    "    \n",
    "    def call_func(self,func):  # func is the function to be decorated\n",
    "                               # call_func is the decorator function\n",
    "        def wrapper(*args, **kwargs):   # *args and**kwargs are there to make sure that \n",
    "                                        # any input arguments can be accepted.\n",
    "            self.count += 1  # increment count when func is called\n",
    "            result = func(*args, **kwargs)\n",
    "            return result\n",
    "        return wrapper\n",
    "        # The return value of a decorator is almost always the result of calling func(*args, **kwargs)\n",
    "\n"
   ]
  },
  {
   "cell_type": "code",
   "execution_count": null,
   "id": "7e6d814b",
   "metadata": {},
   "outputs": [],
   "source": [
    "# First we create an instance of class function_call_count\n",
    "p1 = function_call_count(name=\"Adding two numbers\", count=0)\n",
    "#\n",
    "# Second, we decorate the adding function\n",
    "func_1 = p1.call_func(add_numbers)\n",
    "#\n",
    "# Third, we call the adding algorithm \n",
    "# via the wrapper function, func_1\n",
    "print(\"result of addition: \",func_1(12,5))\n",
    "p1.display_count()\n",
    "print(\"result of addition: \",func_1(2,5))\n",
    "p1.display_count()"
   ]
  },
  {
   "cell_type": "code",
   "execution_count": null,
   "id": "cc52bd1a",
   "metadata": {},
   "outputs": [],
   "source": [
    "#Alternatively\n",
    "# First we create an instance of class function_call_count\n",
    "p1 = function_call_count(name=\"Adding two numbers\", count=0)\n",
    "#\n",
    "# Second, we decorate the adding function\n",
    "#func_1 = p1.call_func(add_numbers)\n",
    "#\n",
    "@p1.call_func\n",
    "def add_numbers(a,b):\n",
    "    return a+b\n",
    "# Third, we call the adding algorithm \n",
    "# via the wrapper function, func_1\n",
    "print(\"result of addition: \",add_numbers(12,5))\n",
    "p1.display_count()\n",
    "print(\"result of addition: \",add_numbers(12,5))\n",
    "p1.display_count()"
   ]
  },
  {
   "cell_type": "code",
   "execution_count": null,
   "id": "08ba1030",
   "metadata": {},
   "outputs": [],
   "source": [
    "# We now create another function to add a list of numbers\n",
    "def add_vector(func,x,y):\n",
    "    # x, y are python integer lists of equal length\n",
    "    z = []\n",
    "    for i in range(len(x)):\n",
    "        z.append(func(x[i],y[i]))\n",
    "    return z"
   ]
  },
  {
   "cell_type": "code",
   "execution_count": null,
   "id": "ecdf1ef7",
   "metadata": {},
   "outputs": [],
   "source": [
    "# test add_vector function\n",
    "add_vector(add_numbers,[1,2,3,4], [5,6,7,8])"
   ]
  },
  {
   "cell_type": "code",
   "execution_count": null,
   "id": "a27e4ac4",
   "metadata": {},
   "outputs": [],
   "source": [
    "# We finally count the number of times add_numbers() is called \n",
    "# First we create an instance of class function_call_count\n",
    "p1 = function_call_count(name=\"Adding two vectors\", count=0)\n",
    "#\n",
    "# Second, we decorate the adding function\n",
    "func_1 = p1.call_func(add_numbers)\n",
    "#\n",
    "# Third, we call the adding vector algorithm and the add_numbers \n",
    "# via the wrapper function, func_1\n",
    "p1.reset_count()\n",
    "print(\"result of addition: \",add_vector(func_1,[1,2,3,4], [5,6,7,8]))\n",
    "p1.display_count()"
   ]
  },
  {
   "cell_type": "code",
   "execution_count": null,
   "id": "515cf6ee",
   "metadata": {},
   "outputs": [],
   "source": []
  },
  {
   "cell_type": "markdown",
   "id": "f4c8625a",
   "metadata": {
    "collapsed": true
   },
   "source": [
    "## Some  tools from statistics"
   ]
  },
  {
   "cell_type": "code",
   "execution_count": null,
   "id": "fe04d43c",
   "metadata": {},
   "outputs": [],
   "source": [
    "import scipy.stats as stats"
   ]
  },
  {
   "cell_type": "markdown",
   "id": "6de3a8a9",
   "metadata": {},
   "source": [
    "\n",
    "## Pearson correlation"
   ]
  },
  {
   "cell_type": "code",
   "execution_count": null,
   "id": "2aa694db",
   "metadata": {},
   "outputs": [],
   "source": [
    "# example 1\n",
    "stats.pearsonr([1,2,3],[1,2,3.1])"
   ]
  },
  {
   "cell_type": "code",
   "execution_count": null,
   "id": "42b1d49e",
   "metadata": {},
   "outputs": [],
   "source": [
    "#example 2\n",
    "stats.pearsonr([1,2,3,4,5,6],[2,4,10,8,10,12])"
   ]
  },
  {
   "cell_type": "code",
   "execution_count": null,
   "id": "e662ace3",
   "metadata": {},
   "outputs": [],
   "source": [
    "#example 3\n",
    "stats.pearsonr([1,2,3,4,5,6],[6,5,4,3,2,1])"
   ]
  },
  {
   "cell_type": "code",
   "execution_count": null,
   "id": "8ceb452f",
   "metadata": {},
   "outputs": [],
   "source": [
    "#example 4\n",
    "stats.pearsonr([1,2,3,4,5,6],[1,2,3,3,2,1])"
   ]
  },
  {
   "cell_type": "markdown",
   "id": "a4babc54",
   "metadata": {},
   "source": [
    "## Random Variables that are linearly related"
   ]
  },
  {
   "cell_type": "code",
   "execution_count": null,
   "id": "5e4b44fb",
   "metadata": {},
   "outputs": [],
   "source": [
    "# we first produce some data whose scatter plot \n",
    "# exhibits a linear relationship\n",
    "# y = mx + c or y = x\n",
    "N=100\n",
    "y_sigma=.25   # variance for y feature\n",
    "x_sigma=np.sqrt(5.0)   # variance for X feature\n",
    "#x = (np.random.rand(N)-0.5)*10\n",
    "x = np.random.randn(N)*x_sigma+5   #Gaussian and shift\n",
    "#x = np.arange(0,10,.02)\n",
    "N=len(x)\n",
    "y = np.copy(x)/2.0+np.random.randn(N)*y_sigma # line equation + gaussian noise\n",
    "print('Pearson Coefficient = ',stats.pearsonr(x,y))\n",
    "fig, ax = plt.subplots()\n",
    "ax.plot(x, y,'k.')\n",
    "ax.set_xlim((-2,12))\n",
    "ax.set_ylim((-2,7))\n",
    "x0,x1 = ax.get_xlim()\n",
    "y0,y1 = ax.get_ylim()\n",
    "ax.set_aspect(1.0)\n",
    "ax.grid(b=True, which='major', linestyle='--')\n",
    "plt.show()"
   ]
  },
  {
   "cell_type": "markdown",
   "id": "15374651",
   "metadata": {},
   "source": [
    "## Random Variables that are non-linearly related"
   ]
  },
  {
   "cell_type": "code",
   "execution_count": null,
   "id": "bae857cb",
   "metadata": {},
   "outputs": [],
   "source": [
    "# we first produce some data whose scatter plot lies on a straight line\n",
    "# y = mx + c or y = x\n",
    "y_sigma=0.05\n",
    "x = np.random.randn(N)*x_sigma\n",
    "x = np.arange(-3,3,.001)\n",
    "N=len(x)\n",
    "y= 0.5*x*x + 0.1*x + 1 + np.random.randn(N)*y_sigma\n",
    "#y = np.copy(x)/2.0+np.random.randn(N)*y_sigma\n",
    "print('Pearson Coefficient = ',stats.pearsonr(x,y) )\n",
    "fig, ax = plt.subplots()\n",
    "ax.plot(x, y,'k.')\n",
    "ax.set_xlim((-6,6))\n",
    "ax.set_ylim((0,6))\n",
    "x0,x1 = ax.get_xlim()\n",
    "y0,y1 = ax.get_ylim()\n",
    "ax.set_aspect(1.0)\n",
    "ax.grid(b=True, which='major', linestyle='--')\n",
    "plt.show()"
   ]
  },
  {
   "cell_type": "markdown",
   "id": "1d0e11ca",
   "metadata": {},
   "source": [
    "## Distributions and Histograms"
   ]
  },
  {
   "cell_type": "code",
   "execution_count": null,
   "id": "3d12becb",
   "metadata": {},
   "outputs": [],
   "source": [
    "# generate numbers guassian distributed, centred at zero\n",
    "sigma=0.3450  #standard deviation\n",
    "np.random.seed(1)\n",
    "X1=np.random.randn(100000)*sigma\n",
    "# generate histogram\n",
    "x_bin=np.arange(-4.0*sigma,3.5*sigma,sigma/3.0)+sigma/2.0\n",
    "h,b=np.histogram(X1,bins=x_bin)\n",
    "#print h,b\n",
    "plt.bar(b[:-1],h,width=sigma/4.0)\n",
    "plt.show()\n",
    "#print x_bin"
   ]
  },
  {
   "cell_type": "code",
   "execution_count": null,
   "id": "7363e1db",
   "metadata": {},
   "outputs": [],
   "source": [
    "# test for correlation when genertaing random numbers\n",
    "np.random.seed(1)\n",
    "X1=np.random.rand(10000)\n",
    "# generate histogram\n",
    "x_bin=np.arange(0.0,1.000001,1.0/10.0)\n",
    "h,b=np.histogram(X1,bins=x_bin)\n",
    "#print h,b\n",
    "plt.bar(b[:-1],h,width=sigma/4.0)\n",
    "plt.show()\n",
    "#print x_bin"
   ]
  },
  {
   "cell_type": "code",
   "execution_count": null,
   "id": "94f00ea9",
   "metadata": {},
   "outputs": [],
   "source": [
    "x=np.array(X1[0:-1])\n",
    "y=np.array(X1[1:])\n",
    "print(len(x), len(X1), len(y))\n",
    "plt.plot(x,y,'.')"
   ]
  },
  {
   "cell_type": "code",
   "execution_count": null,
   "id": "ae8938e2",
   "metadata": {},
   "outputs": [],
   "source": [
    "X2=np.arccos(1-2*np.random.rand(500))/np.pi\n",
    "x_bin=np.arange(0.0,1.000001,1.0/20.0)\n",
    "h,b=np.histogram(X2,bins=x_bin)\n",
    "#print h,b\n",
    "plt.bar(b[:-1],h,width=sigma/8.0)\n",
    "plt.show()\n",
    "\n"
   ]
  },
  {
   "cell_type": "code",
   "execution_count": null,
   "id": "a00decfb",
   "metadata": {},
   "outputs": [],
   "source": [
    "x=np.array(X2[0:-1])\n",
    "y=np.array(X2[1:])\n",
    "print(len(x), len(X1), len(y))\n",
    "plt.plot(x,y,'.')"
   ]
  },
  {
   "cell_type": "code",
   "execution_count": null,
   "id": "1ec54b51",
   "metadata": {},
   "outputs": [],
   "source": [
    "np.random.randint(1,6)\n"
   ]
  },
  {
   "cell_type": "code",
   "execution_count": null,
   "id": "2620d28b",
   "metadata": {},
   "outputs": [],
   "source": [
    "# calculate mean and sigma\n",
    "print ('Mean=',np.mean(X1))\n",
    "print ('variance = ',np.std(X1)**2.0)\n",
    "print ('standard deviation = ',np.std(X1))"
   ]
  },
  {
   "cell_type": "code",
   "execution_count": null,
   "id": "a9155d44",
   "metadata": {},
   "outputs": [],
   "source": [
    "X2=np.random.normal(loc=0.0,scale=0.345,size=100000)  # scale is standard deviation\n",
    "print 'Mean=',np.mean(X2)\n",
    "print 'variance = ',np.std(X2)**2.0\n",
    "print 'standard deviation = ',np.std(X2)\n",
    "print 'variance = ',np.var(X2)"
   ]
  },
  {
   "cell_type": "markdown",
   "id": "3879d702",
   "metadata": {},
   "source": [
    "## Chi-Square goodness-of-fit"
   ]
  },
  {
   "cell_type": "code",
   "execution_count": null,
   "id": "05409c99",
   "metadata": {},
   "outputs": [],
   "source": [
    "# Table for chi-square\n",
    "print(\"Critical value\")\n",
    "\n",
    "for k in range(1,11):\n",
    "    crit = stats.chi2.ppf(q = 1.0-np.array([0.01, .05]), # Find the critical value for 99% and 95% confidence*\n",
    "                          df = k)   # Df = number of variable categories - 1\n",
    "\n",
    "    print(k, crit)\n"
   ]
  },
  {
   "cell_type": "code",
   "execution_count": null,
   "id": "95b1aa77",
   "metadata": {},
   "outputs": [],
   "source": [
    "f_observed=np.array([30,20,35,36,17,14,29,20,18,31],dtype=float)  # reject\n",
    "f_observed=np.array([30,25,25,30,17,14,29,20,18,31],dtype=float)  # assume similar\n",
    "\n",
    "N=len(f_observed)\n",
    "f_expected = np.full_like(f_observed,np.sum(f_observed)/N)\n",
    "#\n",
    "chi_2_obt = np.sum(((f_expected-f_observed)*(f_expected-f_observed))/f_expected)\n",
    "print 'chi_2_obt=',chi_2_obt\n",
    "#\n",
    "chi_2=stats.chi2.ppf(q=1.0-.05,df=N-1)\n",
    "print 'chi_2 from table = ', chi_2\n",
    "#\n",
    "if chi_2_obt>chi_2:\n",
    "    print \"We reject the hypothesis that the two distributions are similar with a confidence of 95%\"\n",
    "else:\n",
    "    print \"We assume that the distributions are similar with a confidence of 95%\""
   ]
  },
  {
   "cell_type": "markdown",
   "id": "7bcc48a2",
   "metadata": {},
   "source": [
    "# t-Test"
   ]
  },
  {
   "cell_type": "code",
   "execution_count": null,
   "id": "173b0643",
   "metadata": {},
   "outputs": [],
   "source": [
    "stats.t.ppf(q=1-0.025,  # Quantile to check\n",
    "            df=2200)  # Degrees of freedom"
   ]
  },
  {
   "cell_type": "code",
   "execution_count": null,
   "id": "4f418307",
   "metadata": {},
   "outputs": [],
   "source": [
    "stats.ttest_1samp(a= [50,75,65,72,68,65,73,59,64], popmean= 75.0)"
   ]
  },
  {
   "cell_type": "markdown",
   "id": "ef8fbde5",
   "metadata": {},
   "source": [
    "# One-way ANOVA"
   ]
  },
  {
   "cell_type": "markdown",
   "id": "32b4d140",
   "metadata": {},
   "source": [
    "## Anova - Manual"
   ]
  },
  {
   "cell_type": "code",
   "execution_count": null,
   "id": "d4951d11",
   "metadata": {},
   "outputs": [],
   "source": [
    "# A study on Perceived difficulty [from Heiman-92]\n",
    "# We told three samples of five subjects each that some\n",
    "# math problems were easy (A1), of medum difficulty (A2), or difficult (A3)\n",
    "# we measured the number of problems they correctly solved\n",
    "# we want to check for significant difference between these groups"
   ]
  },
  {
   "cell_type": "code",
   "execution_count": null,
   "id": "595b129a",
   "metadata": {},
   "outputs": [],
   "source": [
    "# measurements(scores obtained) are given below for the three samples\n",
    "A1 = np.array([9,12,4,8,7],dtype=float)\n",
    "A2 = np.array([4,6,8,2,10],dtype=float)\n",
    "A3 = np.array([1,3,4,5,2],dtype=float)"
   ]
  },
  {
   "cell_type": "code",
   "execution_count": null,
   "id": "c8db2859",
   "metadata": {},
   "outputs": [],
   "source": []
  },
  {
   "cell_type": "code",
   "execution_count": null,
   "id": "d7acac3a",
   "metadata": {},
   "outputs": [],
   "source": []
  },
  {
   "cell_type": "markdown",
   "id": "ed41cf66",
   "metadata": {},
   "source": [
    "## Anova - Python Library"
   ]
  },
  {
   "cell_type": "code",
   "execution_count": null,
   "id": "fcf03509",
   "metadata": {},
   "outputs": [],
   "source": [
    "print stats.f_oneway(A1,A2,A3)"
   ]
  },
  {
   "cell_type": "code",
   "execution_count": null,
   "id": "9935bdcb",
   "metadata": {},
   "outputs": [],
   "source": [
    "stats.f.sf(4.52, dfn=2, dfd=12, loc=0, scale=1)"
   ]
  },
  {
   "cell_type": "code",
   "execution_count": null,
   "id": "9608d625",
   "metadata": {},
   "outputs": [],
   "source": [
    "# calculating f_critical\n",
    "def get_f_crit(alpha,n,d):\n",
    "    #rv=stats.f(n,d)\n",
    "    x=1.0\n",
    "    while (stats.f.sf(x,n,d)>alpha) and x<10.0:\n",
    "        x+=0.001\n",
    "    return x"
   ]
  },
  {
   "cell_type": "code",
   "execution_count": null,
   "id": "795001a9",
   "metadata": {},
   "outputs": [],
   "source": [
    "print get_f_crit(0.05,100,13)"
   ]
  },
  {
   "cell_type": "code",
   "execution_count": null,
   "id": "bd384c3d",
   "metadata": {},
   "outputs": [],
   "source": [
    "rv=stats.f(2,12)\n",
    "rv.sf(4.52)"
   ]
  },
  {
   "cell_type": "code",
   "execution_count": null,
   "id": "67f06f21",
   "metadata": {},
   "outputs": [],
   "source": []
  },
  {
   "cell_type": "markdown",
   "id": "ec00418e",
   "metadata": {},
   "source": [
    "# Standard functions"
   ]
  },
  {
   "cell_type": "code",
   "execution_count": null,
   "id": "a9efd13a",
   "metadata": {},
   "outputs": [],
   "source": []
  },
  {
   "cell_type": "code",
   "execution_count": null,
   "id": "798896ec",
   "metadata": {},
   "outputs": [],
   "source": [
    "def Booth(x):\n",
    "    \"\"\"\n",
    "    Booth's function is a 2D quadratic function\n",
    "    This implementation follows the definition in Kochenderfer & Wheeler, 2019, with an added bias\n",
    "    x : x is a numpy array of dimensions [2,m], where m is the number of 2D points\n",
    "    \"\"\"\n",
    "    return (x[0] + 2*x[1] - 7)**2 + (2*x[0] + x[1] - 5)**2 +100\n",
    "\n",
    "def Bowl(x):\n",
    "    \"\"\"\n",
    "    Booth's function is a 2D quadratic function\n",
    "    This implementation follows the definition in Kochenderfer & Wheeler, 2019, with an added bias\n",
    "    x : x is a numpy array of dimensions [2,m], where m is the number of 2D points\n",
    "    \"\"\"\n",
    "    return (x[0]**2 + x[1]**2)\n",
    "\n",
    "def rosenbrock(x, a=1, b=5):\n",
    "    \"\"\"\n",
    "    Rosenbrock's function is a 2D uni-modal function\n",
    "    This implementation follows the definition in Kochenderfer & Wheeler, 2019\n",
    "    x : x is a numpy array of dimensions [2,m], where m is the number of 2D points\n",
    "    \"\"\"\n",
    "    return (a-x[0])**2 + b*(x[1] - x[0]**2)**2"
   ]
  },
  {
   "cell_type": "code",
   "execution_count": null,
   "id": "28fadddc",
   "metadata": {},
   "outputs": [],
   "source": []
  },
  {
   "cell_type": "code",
   "execution_count": null,
   "id": "0fa364d3",
   "metadata": {},
   "outputs": [],
   "source": [
    "import numpy as np\n",
    "import matplotlib.pyplot as plt"
   ]
  },
  {
   "cell_type": "code",
   "execution_count": null,
   "id": "cc7f8436",
   "metadata": {},
   "outputs": [],
   "source": [
    "# Plot function\n",
    "# First Compute the cost function over some values in a square grid \n",
    "# Define grid\n",
    "N=100\n",
    "x = np.linspace(-2., 5., N)\n",
    "y = np.linspace(0., 7., N)\n",
    "X = np.repeat(x,N).reshape(N,N)\n",
    "Y = np.tile(y,N).reshape(N,N)\n",
    "#\n",
    "#Compute COST FUNCTION over grid \n",
    "xx = np.column_stack((X.flatten(),Y.flatten())).T\n",
    "Z = Booth(xx).reshape(N,N)\n",
    "#\n",
    "# Plot Contour\n",
    "plt.figure(figsize=(10, 10))\n",
    "plt.contour(X,Y,Z, levels=40)\n",
    "plt.colorbar()\n",
    "plt.axis('equal')\n",
    "plt.grid()\n",
    "plt.show()"
   ]
  },
  {
   "cell_type": "code",
   "execution_count": null,
   "id": "0df2ccb6",
   "metadata": {},
   "outputs": [],
   "source": [
    "%matplotlib widget"
   ]
  },
  {
   "cell_type": "code",
   "execution_count": null,
   "id": "7d61e588",
   "metadata": {},
   "outputs": [],
   "source": [
    "# Plot a wireframe.\n",
    "#\n",
    "fig = plt.figure(figsize=(5, 5))\n",
    "ax = fig.add_subplot(111, projection='3d')\n",
    "ax.plot_wireframe(X, Y, Z, rstride=2, cstride=2)\n",
    "ax.view_init(10, 60) # elevation, azimuth"
   ]
  },
  {
   "cell_type": "code",
   "execution_count": null,
   "id": "982c112b",
   "metadata": {},
   "outputs": [],
   "source": [
    "N=80\n",
    "limit=2\n",
    "xx = np.linspace(-limit, limit, N)\n",
    "yy = np.linspace(-limit, limit, N)\n",
    "X = np.repeat(xx,N).reshape(N,N)\n",
    "Y = np.tile(yy,N).reshape(N,N)\n",
    "#\n",
    "x = np.column_stack((X.flatten(),Y.flatten())).T\n",
    "Z = rosenbrock(x).reshape(N,N)\n",
    "#\n",
    "plt.contour(X,Y,Z, levels=100)"
   ]
  },
  {
   "cell_type": "code",
   "execution_count": null,
   "id": "612e88bb",
   "metadata": {},
   "outputs": [],
   "source": [
    "# Plot a wireframe.\n",
    "#\n",
    "fig = plt.figure(figsize=(10, 10))\n",
    "ax = fig.add_subplot(111, projection='3d')\n",
    "ax.plot_wireframe(X, Y, Z, rstride=2, cstride=2)\n",
    "ax.view_init(10, 60) # elevation, azimuth\n",
    "#ax.view_init(0, 90) # elevation, azimuth"
   ]
  },
  {
   "cell_type": "code",
   "execution_count": null,
   "id": "c1f02c32",
   "metadata": {},
   "outputs": [],
   "source": []
  }
 ],
 "metadata": {
  "kernelspec": {
   "display_name": "Python 3 (ipykernel)",
   "language": "python",
   "name": "python3"
  },
  "language_info": {
   "codemirror_mode": {
    "name": "ipython",
    "version": 3
   },
   "file_extension": ".py",
   "mimetype": "text/x-python",
   "name": "python",
   "nbconvert_exporter": "python",
   "pygments_lexer": "ipython3",
   "version": "3.9.7"
  }
 },
 "nbformat": 4,
 "nbformat_minor": 5
}
