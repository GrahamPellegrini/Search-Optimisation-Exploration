{
 "cells": [
  {
   "cell_type": "markdown",
   "id": "e5f0a445",
   "metadata": {},
   "source": [
    "## Search and Optimisation - Lab Sessions\n",
    "### CCE2503\n",
    "####  developed by - Adrian Muscat, 2022, 2023\n",
    "---\n",
    "\n",
    "\n",
    "In this notebook you will use or implement the following\n",
    "1. Interval halving algorithm\n",
    "1. Golden search method\n",
    "2. Finding an initial bracket for line searches\n",
    "3. Basic gradient descent algorithm\n",
    "4. Accelerating GD with momentum\n",
    "4. Timing of python code\n",
    "5. Counting the number of times a function is called.\n"
   ]
  },
  {
   "cell_type": "code",
   "execution_count": null,
   "id": "d1c78c4c",
   "metadata": {},
   "outputs": [],
   "source": [
    "# import libraries\n",
    "import numpy as np\n",
    "import matplotlib.pyplot as plt\n",
    "from mpl_toolkits.mplot3d import Axes3D\n",
    "import time\n",
    "%matplotlib inline"
   ]
  },
  {
   "cell_type": "markdown",
   "id": "89734de1",
   "metadata": {},
   "source": [
    "### Interval halving algorithm\n",
    "Below is an implementation of the interval halving algorithm"
   ]
  },
  {
   "cell_type": "code",
   "execution_count": null,
   "id": "a15ed9d2",
   "metadata": {},
   "outputs": [],
   "source": [
    "def interval_halving_algo(cost_func, a=0, b=1, e = 0.001, max_itr=100):\n",
    "    \"\"\"\n",
    "    cost_func:  function that computes cost or loss\n",
    "    [a,b] : Intial interval of uncertainty\n",
    "    e : target interval of uncertainty\n",
    "    max_itr: maximum number of iterations\n",
    "    returns:\n",
    "    [a,b]: Final interval of uncertainty\n",
    "    n : number of iterations\n",
    "    \"\"\"\n",
    "    #\n",
    "    n=0\n",
    "    D = b - a  #Interval of uncertainty\n",
    "    x_m = a + D/2\n",
    "    y_m = cost_func(x_m)        \n",
    "    #\n",
    "    while D>e and n<max_itr:\n",
    "        n += 1\n",
    "        x_l = a + D/4\n",
    "        y_l = cost_func(x_l)\n",
    "        x_u = b - D/4\n",
    "        y_u = cost_func(x_u)\n",
    "        if y_l < y_m:\n",
    "            b = x_m\n",
    "            x_m = x_l\n",
    "            y_m = y_l\n",
    "            D = b - a\n",
    "        elif y_u < y_m:\n",
    "            a = x_m\n",
    "            x_m = x_u\n",
    "            y_m = y_u\n",
    "            D = b - a\n",
    "        else:\n",
    "            a = x_l\n",
    "            b = x_u\n",
    "            D = b - a\n",
    "    #\n",
    "    return a, b, n"
   ]
  },
  {
   "cell_type": "markdown",
   "id": "47169158",
   "metadata": {},
   "source": [
    "### Let us define and plot some loss functions"
   ]
  },
  {
   "cell_type": "code",
   "execution_count": null,
   "id": "a4f210a4",
   "metadata": {},
   "outputs": [],
   "source": [
    "def squaring_function(z):\n",
    "    \"\"\"\n",
    "    uni-variate squaring function, minimum is at z=1.5\n",
    "    z: input values, vector of dimension n\n",
    "    returns:\n",
    "    value of function for each input element in n dimensions\n",
    "    \"\"\"\n",
    "    return (z-1.3)**2.\n",
    "\n",
    "def weighted_exponential_function(z):\n",
    "    \"\"\"\n",
    "    uni-variate exponential function, minimum is at z=\n",
    "    z: input values, vector of dimension n\n",
    "    returns:\n",
    "    value of function for each input element in n dimensions\n",
    "    \"\"\"\n",
    "    return -z*np.exp(-z)\n",
    "\n",
    "def shifted_exponential_function(z):\n",
    "    \"\"\"\n",
    "    uni-variate exponential function, minimum is at z=\n",
    "    z: input values, vector of dimension n\n",
    "    returns:\n",
    "    value of function for each input element in n dimensions\n",
    "    \"\"\"\n",
    "    return 2 - 4*(z+1) + np.exp(z+1)"
   ]
  },
  {
   "cell_type": "markdown",
   "id": "b1f6a467",
   "metadata": {},
   "source": [
    "### Plot the above three functions"
   ]
  },
  {
   "cell_type": "code",
   "execution_count": null,
   "id": "6a7fa917",
   "metadata": {},
   "outputs": [],
   "source": [
    "f = [squaring_function, \n",
    "     weighted_exponential_function, \n",
    "     shifted_exponential_function]\n",
    "\n",
    "x = np.linspace(-3,3,50)\n",
    "\n",
    "for item in f:\n",
    "    y = item(x)\n",
    "    plt.plot(x,y)\n",
    "plt.legend(f)\n",
    "plt.axis([-3,3,-1,1])\n",
    "plt.show()"
   ]
  },
  {
   "cell_type": "code",
   "execution_count": null,
   "id": "edd8abc7",
   "metadata": {},
   "outputs": [],
   "source": []
  },
  {
   "cell_type": "markdown",
   "id": "eb17b155",
   "metadata": {},
   "source": [
    "### Use the interval-halving algorithm to find the minimum of the squaring function. You can start with the interval [-3, 3]"
   ]
  },
  {
   "cell_type": "code",
   "execution_count": null,
   "id": "0e6f4a95",
   "metadata": {},
   "outputs": [],
   "source": [
    "print(\"weighted_exp_function: \",interval_halving_algo(weighted_exponential_function, \n",
    "                      a=0, b=2, e=0.0001, max_itr=100))\n",
    "print(\"squaring_function: \",interval_halving_algo(squaring_function, \n",
    "                      a=0, b=2, e=0.0001, max_itr=100))"
   ]
  },
  {
   "cell_type": "markdown",
   "id": "b66698ba",
   "metadata": {},
   "source": [
    "### Below is an implementation for initial bracket search"
   ]
  },
  {
   "cell_type": "code",
   "execution_count": null,
   "id": "70382595",
   "metadata": {},
   "outputs": [],
   "source": [
    "def get_initial_bracket(f, x=0, s=1e-2, k=2.0):\n",
    "    \"\"\"\n",
    "    Find an interval [a,b] along a coordinate direction in which a minimum exists\n",
    "    f : multivariate function where minimum exists (n-dimensional)\n",
    "    x : starting position  (vector in n-dimensions)\n",
    "    s : initial step size (scalar)\n",
    "    k : interval expanding factor (scalar)\n",
    "    returns:\n",
    "    [a,b] : return scalar quantities a, b (bracket or interval limits)\n",
    "    \"\"\"\n",
    "    a = x\n",
    "    ya = f(x)\n",
    "    b = a + s\n",
    "    x=b\n",
    "    yb = f(x) \n",
    "    if yb > ya:\n",
    "        a, b = b, a\n",
    "        ya, yb = yb, ya\n",
    "        s = -s\n",
    "    flag=True\n",
    "    while flag:\n",
    "        c = b + s\n",
    "        x = c\n",
    "        yc = f(x)\n",
    "        if yc > yb:\n",
    "            flag = False\n",
    "        else:\n",
    "            a, ya, b, yb = b, yb, c, yc # comment this line to preserve starting point\n",
    "            s *= k\n",
    "    if a < c: a_b = [a, c] \n",
    "    else: a_b=[c, a]\n",
    "    return a_b"
   ]
  },
  {
   "cell_type": "markdown",
   "id": "88e02644",
   "metadata": {},
   "source": [
    "### Use the  get_initial_bracket() function to find an initial bracket and then proceed with the interval reduction algorithm"
   ]
  },
  {
   "cell_type": "code",
   "execution_count": null,
   "id": "30c6e423",
   "metadata": {},
   "outputs": [],
   "source": [
    "a,b = get_initial_bracket(squaring_function, x=-1, s=.1, k=1.1 )\n",
    "print(a,b)"
   ]
  },
  {
   "cell_type": "code",
   "execution_count": null,
   "id": "4dc5bbb2",
   "metadata": {},
   "outputs": [],
   "source": [
    "\n",
    "x1,x2,n = interval_halving_algo(squaring_function, \n",
    "                      a, b, e=0.0001, max_itr=100)\n",
    "print(x1,x2,n)\n"
   ]
  },
  {
   "cell_type": "markdown",
   "id": "372196a6",
   "metadata": {},
   "source": [
    "### Timing the code"
   ]
  },
  {
   "cell_type": "code",
   "execution_count": null,
   "id": "115a8b56",
   "metadata": {},
   "outputs": [],
   "source": [
    "N=1000\n",
    "time_start = time.time()\n",
    "for n in range(N):\n",
    "    r = interval_halving_algo(squaring_function, \n",
    "                      a=0, b=2, e=0.0001, max_itr=100)\n",
    "time_end = time.time()\n",
    "print(\"Computational time: \",(time_end - time_start)/N)\n",
    "print(\"squaring_function: \",r)"
   ]
  },
  {
   "cell_type": "code",
   "execution_count": null,
   "id": "5dca6ebd",
   "metadata": {},
   "outputs": [],
   "source": [
    "from timeit import default_timer as timer\n",
    "N=1000\n",
    "start = timer()\n",
    "\n",
    "for n in range(N):\n",
    "    r = interval_halving_algo(squaring_function, \n",
    "                      a=0, b=2, e=0.0001, max_itr=100)\n",
    "\n",
    "end = timer()\n",
    "print((end - start)/N)"
   ]
  },
  {
   "cell_type": "code",
   "execution_count": null,
   "id": "a63f0a1e",
   "metadata": {},
   "outputs": [],
   "source": [
    "%timeit max(range(100000))"
   ]
  },
  {
   "cell_type": "markdown",
   "id": "6912654a",
   "metadata": {},
   "source": [
    "### Let's count the number of function calls\n",
    "### One neat method is based on defining a wrapper function and casting it in a class "
   ]
  },
  {
   "cell_type": "code",
   "execution_count": null,
   "id": "2b91ecb8",
   "metadata": {},
   "outputs": [],
   "source": [
    "class function_call_count:\n",
    "    def __init__(self, name, count):\n",
    "        self.name = name\n",
    "        self.count = count\n",
    "\n",
    "    def display_count(self): # Method to display count\n",
    "        print(\"Function call count is \", self.count)\n",
    "        \n",
    "    def reset_count(self):  # Method to reset count\n",
    "        self.count = 0\n",
    "    \n",
    "    def call_func(self,func):  # func is the function to be decorated\n",
    "                               # call_func is the decorator function\n",
    "        def wrapper(*args, **kwargs):\n",
    "            self.count += 1  # increment count when func is called\n",
    "            result = func(*args, **kwargs)\n",
    "            return result\n",
    "        return wrapper\n",
    "\n"
   ]
  },
  {
   "cell_type": "code",
   "execution_count": null,
   "id": "75581064",
   "metadata": {},
   "outputs": [],
   "source": [
    "# We want to count the number of times the loss function \n",
    "# is called when using the interval-halving algorithm\n",
    "#\n",
    "# First we create an instance of class function_call_count\n",
    "p1 = function_call_count(name=\"Interval-Halving\", count=0)\n",
    "#\n",
    "# Second, we decorate the squaring function\n",
    "func_1 = p1.call_func(squaring_function)\n",
    "#\n",
    "# Third, we call the interval-halving algorithm \n",
    "# specifying the decorated loss function\n",
    "p1.reset_count()  \n",
    "final_interval = interval_halving_algo(func_1, a=-3, b=3, \n",
    "                      e=0.001, max_itr=100)\n",
    "p1.display_count()\n",
    "print('Final interval and iterations',final_interval)"
   ]
  },
  {
   "cell_type": "markdown",
   "id": "ddfb6fe4",
   "metadata": {},
   "source": [
    "### Include the initial bracket algorithm. What is the new count?"
   ]
  },
  {
   "cell_type": "code",
   "execution_count": null,
   "id": "ea094850",
   "metadata": {},
   "outputs": [],
   "source": [
    "p1.reset_count()  # reset the counter to zero\n",
    "\n",
    "initial_interval = get_initial_bracket(func_1, \n",
    "                                       x=-1, s=.1, k=2 )\n",
    "print(initial_interval)\n",
    "p1.display_count()\n",
    "\n",
    "final_interval = interval_halving_algo(func_1, \n",
    "                                       a = initial_interval[0],\n",
    "                                       b = initial_interval[1], \n",
    "                                       e = 0.001, max_itr=100)\n",
    "\n",
    "\n",
    "p1.display_count()\n",
    "\n",
    "print('Final interval and iterations',final_interval)"
   ]
  },
  {
   "cell_type": "markdown",
   "id": "e81788b0",
   "metadata": {},
   "source": [
    "### Implement the Golden Search Algorithm"
   ]
  },
  {
   "cell_type": "code",
   "execution_count": null,
   "id": "b01498e5",
   "metadata": {},
   "outputs": [],
   "source": []
  },
  {
   "cell_type": "markdown",
   "id": "5669be3a",
   "metadata": {},
   "source": [
    "### Compare computational time and number of function evaluations for the two interval reduction methods"
   ]
  },
  {
   "cell_type": "code",
   "execution_count": null,
   "id": "3136f762",
   "metadata": {},
   "outputs": [],
   "source": [
    "...\n"
   ]
  },
  {
   "cell_type": "markdown",
   "id": "dd3a9a2e",
   "metadata": {},
   "source": [
    "### We will now consider a two dimensional loss function"
   ]
  },
  {
   "cell_type": "code",
   "execution_count": null,
   "id": "4a19afae",
   "metadata": {},
   "outputs": [],
   "source": [
    "def rosenbrock(x, a=1, b=5):\n",
    "    \"\"\"\n",
    "    Rosenbrock's function is a 2D uni-modal function\n",
    "    This implementation follows the definition in Kochenderfer & Wheeler, 2019\n",
    "    x : x is a numpy array of dimensions [2,m], where m is the number of 2D points\n",
    "    \"\"\"\n",
    "    return (a-x[0])**2 + b*(x[1] - x[0]**2)**2"
   ]
  },
  {
   "cell_type": "markdown",
   "id": "e4f8c2e6",
   "metadata": {},
   "source": [
    "### Plot the Rosenbrock function as a contour plot and 3D wire-mesh"
   ]
  },
  {
   "cell_type": "code",
   "execution_count": null,
   "id": "f8758fb9",
   "metadata": {},
   "outputs": [],
   "source": [
    "N=80\n",
    "limit=2\n",
    "xx = np.linspace(-limit, limit, N)\n",
    "yy = np.linspace(-limit, limit, N)\n",
    "X = np.repeat(xx,N).reshape(N,N)\n",
    "Y = np.tile(yy,N).reshape(N,N)\n",
    "#\n",
    "x = np.column_stack((X.flatten(),Y.flatten())).T\n",
    "Z = rosenbrock(x).reshape(N,N)\n",
    "#\n",
    "plt.contour(X,Y,Z, levels=100)"
   ]
  },
  {
   "cell_type": "code",
   "execution_count": null,
   "id": "21988c1f",
   "metadata": {},
   "outputs": [],
   "source": [
    "# Plot a wireframe.\n",
    "#\n",
    "fig = plt.figure(figsize=(10, 10))\n",
    "ax = fig.add_subplot(111, projection='3d')\n",
    "ax.plot_wireframe(X, Y, np.log(Z), rstride=2, cstride=2)\n",
    "ax.view_init(10, 60) # elevation, azimuth\n",
    "ax.view_init(0, 90) # elevation, azimuth"
   ]
  },
  {
   "cell_type": "markdown",
   "id": "4db427ff",
   "metadata": {},
   "source": [
    "### Implement the Coodinate Descent algorithm to find the location of the minimum in the rosenbrock function"
   ]
  },
  {
   "cell_type": "code",
   "execution_count": null,
   "id": "e05abf82",
   "metadata": {},
   "outputs": [],
   "source": [
    "..."
   ]
  },
  {
   "cell_type": "markdown",
   "id": "7b2c42c1",
   "metadata": {},
   "source": [
    "### Implement Gradient Descent algorithm to find the location of the minimum in the rosenbrock function"
   ]
  },
  {
   "cell_type": "code",
   "execution_count": null,
   "id": "749cb1fa",
   "metadata": {},
   "outputs": [],
   "source": [
    "..."
   ]
  },
  {
   "cell_type": "markdown",
   "id": "0656a7f5",
   "metadata": {},
   "source": [
    "### Compare the number of iterations and computational time taken for the Coodinate Descent and Gradient Descent algorithms."
   ]
  },
  {
   "cell_type": "code",
   "execution_count": null,
   "id": "437199fd",
   "metadata": {},
   "outputs": [],
   "source": [
    "..."
   ]
  }
 ],
 "metadata": {
  "kernelspec": {
   "display_name": "Python 3 (ipykernel)",
   "language": "python",
   "name": "python3"
  },
  "language_info": {
   "codemirror_mode": {
    "name": "ipython",
    "version": 3
   },
   "file_extension": ".py",
   "mimetype": "text/x-python",
   "name": "python",
   "nbconvert_exporter": "python",
   "pygments_lexer": "ipython3",
   "version": "3.9.7"
  }
 },
 "nbformat": 4,
 "nbformat_minor": 5
}
